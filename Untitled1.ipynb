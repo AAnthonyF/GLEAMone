{
 "cells": [
  {
   "cell_type": "code",
   "execution_count": 1,
   "id": "09723eb5",
   "metadata": {},
   "outputs": [],
   "source": [
    "import pandas as pd\n",
    "import matplotlib.pyplot as plt\n",
    "import seaborn as sns\n",
    "from scipy import stats"
   ]
  },
  {
   "cell_type": "code",
   "execution_count": 11,
   "id": "0085b161",
   "metadata": {},
   "outputs": [],
   "source": [
    "GLEAM = pd.read_csv(\"Data/GLEAMorig1.csv\")"
   ]
  },
  {
   "cell_type": "markdown",
   "id": "85900861",
   "metadata": {},
   "source": [
    "### Checking out our dataset before wrangling the data"
   ]
  },
  {
   "cell_type": "code",
   "execution_count": 12,
   "id": "84cc05ed",
   "metadata": {},
   "outputs": [
    {
     "name": "stdout",
     "output_type": "stream",
     "text": [
      "<class 'pandas.core.frame.DataFrame'>\n",
      "RangeIndex: 583 entries, 0 to 582\n",
      "Data columns (total 22 columns):\n",
      " #   Column                                           Non-Null Count  Dtype  \n",
      "---  ------                                           --------------  -----  \n",
      " 0   Region                                           583 non-null    object \n",
      " 1   Animal_species                                   583 non-null    object \n",
      " 2   Production_system                                583 non-null    object \n",
      " 3   Commodity                                        583 non-null    object \n",
      " 4   EmissionIntensity                                583 non-null    float64\n",
      " 5   Production_kgProtein                             543 non-null    float64\n",
      " 6   TotalGHG_CO2                                     543 non-null    float64\n",
      " 7   TotalCO2                                         543 non-null    float64\n",
      " 8   Total CH4 emissions (kg CO2e)                    543 non-null    float64\n",
      " 9   Total N2O emissions (kg CO2e)                    543 non-null    float64\n",
      " 10  FeedCO2                                          543 non-null    float64\n",
      " 11  Feed, CH4 (kg CO2e)                              96 non-null     float64\n",
      " 12  Feed: fertilizer & crop residues, N2O (kg CO2e)  543 non-null    float64\n",
      " 13  Feed: applied & deposited manure, N2O (kg CO2e)  543 non-null    float64\n",
      " 14  LUC: soy & palm, CO2 (kg CO2e)                   440 non-null    float64\n",
      " 15  LUC: pasture expansion, CO2 (kg CO2e)            8 non-null      float64\n",
      " 16  Enteric fermentation, CH4 (kg CO2e)              425 non-null    float64\n",
      " 17  Manure management, CH4 (kg CO2e)                 543 non-null    float64\n",
      " 18  Manure management, N2O (kg CO2e)                 528 non-null    float64\n",
      " 19  Direct energyCO2                                 503 non-null    float64\n",
      " 20  Indirect energy, CO2 (kg CO2e)                   512 non-null    float64\n",
      " 21  PostfarmCO2                                      491 non-null    float64\n",
      "dtypes: float64(18), object(4)\n",
      "memory usage: 100.3+ KB\n"
     ]
    }
   ],
   "source": [
    "GLEAM.info()"
   ]
  },
  {
   "cell_type": "markdown",
   "id": "c3350018",
   "metadata": {},
   "source": [
    "### We have some data that aren't integers. Transforming these columns will need to be done.  First to remove some data that is not needed in this analysis. using drop() on multiple columns. "
   ]
  },
  {
   "cell_type": "code",
   "execution_count": 13,
   "id": "3889358b",
   "metadata": {},
   "outputs": [],
   "source": [
    "GLEAM1 = GLEAM.drop(['Commodity', 'Region', 'LUC: soy & palm, CO2 (kg CO2e)', 'LUC: pasture expansion, CO2 (kg CO2e)'], axis=1)"
   ]
  },
  {
   "cell_type": "code",
   "execution_count": 48,
   "id": "0a1fcb58",
   "metadata": {},
   "outputs": [
    {
     "name": "stdout",
     "output_type": "stream",
     "text": [
      "<class 'pandas.core.frame.DataFrame'>\n",
      "RangeIndex: 583 entries, 0 to 582\n",
      "Data columns (total 20 columns):\n",
      " #   Column                                           Non-Null Count  Dtype  \n",
      "---  ------                                           --------------  -----  \n",
      " 0   Animal_species                                   583 non-null    object \n",
      " 1   Production_system                                583 non-null    object \n",
      " 2   EmissionIntensity                                583 non-null    float64\n",
      " 3   Production_kgProtein                             543 non-null    float64\n",
      " 4   TotalGHG_CO2                                     543 non-null    float64\n",
      " 5   TotalCO2                                         543 non-null    float64\n",
      " 6   Total CH4 emissions (kg CO2e)                    543 non-null    float64\n",
      " 7   Total N2O emissions (kg CO2e)                    543 non-null    float64\n",
      " 8   FeedCO2                                          543 non-null    float64\n",
      " 9   Feed, CH4 (kg CO2e)                              96 non-null     float64\n",
      " 10  Feed: fertilizer & crop residues, N2O (kg CO2e)  543 non-null    float64\n",
      " 11  Feed: applied & deposited manure, N2O (kg CO2e)  543 non-null    float64\n",
      " 12  Enteric fermentation, CH4 (kg CO2e)              425 non-null    float64\n",
      " 13  Manure management, CH4 (kg CO2e)                 543 non-null    float64\n",
      " 14  Manure management, N2O (kg CO2e)                 528 non-null    float64\n",
      " 15  Direct energyCO2                                 503 non-null    float64\n",
      " 16  Indirect energy, CO2 (kg CO2e)                   512 non-null    float64\n",
      " 17  PostfarmCO2                                      491 non-null    float64\n",
      " 18  ProdSystemR                                      583 non-null    int64  \n",
      " 19  Species                                          583 non-null    int64  \n",
      "dtypes: float64(16), int64(2), object(2)\n",
      "memory usage: 91.2+ KB\n"
     ]
    }
   ],
   "source": [
    "GLEAM1.info()"
   ]
  },
  {
   "cell_type": "markdown",
   "id": "87e39538",
   "metadata": {},
   "source": [
    "### Getting value counts for the next transformation from object to integer. "
   ]
  },
  {
   "cell_type": "code",
   "execution_count": 41,
   "id": "77dcb293",
   "metadata": {},
   "outputs": [
    {
     "data": {
      "text/plain": [
       "Cattle       121\n",
       "Chicken      121\n",
       "Buffaloes     99\n",
       "Sheep         99\n",
       "Goats         99\n",
       "Pigs          44\n",
       "Name: Animal_species, dtype: int64"
      ]
     },
     "execution_count": 41,
     "metadata": {},
     "output_type": "execute_result"
    }
   ],
   "source": [
    "GLEAM1.Animal_species.value_counts()"
   ]
  },
  {
   "cell_type": "code",
   "execution_count": 42,
   "id": "5198e521",
   "metadata": {},
   "outputs": [
    {
     "data": {
      "text/plain": [
       "Aggregated              176\n",
       "Grassland systems       132\n",
       "Mixed systems           132\n",
       "Backyard systems         44\n",
       "Layers                   33\n",
       "Feedlots                 22\n",
       "Broilers                 22\n",
       "Intermediate systems     11\n",
       "Industrial systems       11\n",
       "Name: Production_system, dtype: int64"
      ]
     },
     "execution_count": 42,
     "metadata": {},
     "output_type": "execute_result"
    }
   ],
   "source": [
    "GLEAM1.Production_system.value_counts()"
   ]
  },
  {
   "cell_type": "code",
   "execution_count": 43,
   "id": "4c53c996",
   "metadata": {},
   "outputs": [],
   "source": [
    "def Production_system (series):\n",
    "    if series ==\"Aggregated\":\n",
    "        return 0\n",
    "    if series == \"Grassland systems\":\n",
    "        return 1\n",
    "    if series == \"Mixed systems\":\n",
    "        return 3\n",
    "    if series == \"Backyard systems\":\n",
    "        return 4\n",
    "    if series == \"Layers\":\n",
    "        return 5\n",
    "    if series == \"Feedlots\":\n",
    "        return 6\n",
    "    if series == \"Broilers\":\n",
    "        return 7\n",
    "    if series == \"Intermediate systems\":\n",
    "        return 8\n",
    "    if series == \"Industrial systems\":\n",
    "        return 9\n",
    "GLEAM1['ProdSystemR'] = GLEAM1['Production_system'].apply(Production_system)"
   ]
  },
  {
   "cell_type": "code",
   "execution_count": 46,
   "id": "bde375c5",
   "metadata": {},
   "outputs": [],
   "source": [
    "def Animal_species (series):\n",
    "    if series == \"Cattle\":\n",
    "        return 0\n",
    "    if series == \"Chicken\":\n",
    "        return 1\n",
    "    if series == \"Buffaloes\":\n",
    "        return 2\n",
    "    if series == \"Sheep\":\n",
    "        return 3\n",
    "    if series == \"Goats\":\n",
    "        return 4\n",
    "    if series == \"Pigs\":\n",
    "        return 5\n",
    "GLEAM1['Species'] = GLEAM1['Animal_species'].apply(Animal_species)"
   ]
  },
  {
   "cell_type": "markdown",
   "id": "fb0998fe",
   "metadata": {},
   "source": [
    "### Checking out the transormation of our columns. "
   ]
  },
  {
   "cell_type": "code",
   "execution_count": 47,
   "id": "c217637c",
   "metadata": {},
   "outputs": [
    {
     "data": {
      "text/html": [
       "<div>\n",
       "<style scoped>\n",
       "    .dataframe tbody tr th:only-of-type {\n",
       "        vertical-align: middle;\n",
       "    }\n",
       "\n",
       "    .dataframe tbody tr th {\n",
       "        vertical-align: top;\n",
       "    }\n",
       "\n",
       "    .dataframe thead th {\n",
       "        text-align: right;\n",
       "    }\n",
       "</style>\n",
       "<table border=\"1\" class=\"dataframe\">\n",
       "  <thead>\n",
       "    <tr style=\"text-align: right;\">\n",
       "      <th></th>\n",
       "      <th>Animal_species</th>\n",
       "      <th>Production_system</th>\n",
       "      <th>EmissionIntensity</th>\n",
       "      <th>Production_kgProtein</th>\n",
       "      <th>TotalGHG_CO2</th>\n",
       "      <th>TotalCO2</th>\n",
       "      <th>Total CH4 emissions (kg CO2e)</th>\n",
       "      <th>Total N2O emissions (kg CO2e)</th>\n",
       "      <th>FeedCO2</th>\n",
       "      <th>Feed, CH4 (kg CO2e)</th>\n",
       "      <th>Feed: fertilizer &amp; crop residues, N2O (kg CO2e)</th>\n",
       "      <th>Feed: applied &amp; deposited manure, N2O (kg CO2e)</th>\n",
       "      <th>Enteric fermentation, CH4 (kg CO2e)</th>\n",
       "      <th>Manure management, CH4 (kg CO2e)</th>\n",
       "      <th>Manure management, N2O (kg CO2e)</th>\n",
       "      <th>Direct energyCO2</th>\n",
       "      <th>Indirect energy, CO2 (kg CO2e)</th>\n",
       "      <th>PostfarmCO2</th>\n",
       "      <th>ProdSystemR</th>\n",
       "      <th>Species</th>\n",
       "    </tr>\n",
       "  </thead>\n",
       "  <tbody>\n",
       "    <tr>\n",
       "      <th>0</th>\n",
       "      <td>Cattle</td>\n",
       "      <td>Aggregated</td>\n",
       "      <td>160.3</td>\n",
       "      <td>2.916310e+10</td>\n",
       "      <td>4.670000e+12</td>\n",
       "      <td>9.450000e+11</td>\n",
       "      <td>2.650000e+12</td>\n",
       "      <td>1.080000e+12</td>\n",
       "      <td>3.530000e+11</td>\n",
       "      <td>NaN</td>\n",
       "      <td>1.740000e+11</td>\n",
       "      <td>7.420000e+11</td>\n",
       "      <td>2.510000e+12</td>\n",
       "      <td>1.390000e+11</td>\n",
       "      <td>1.650000e+11</td>\n",
       "      <td>4.215542e+10</td>\n",
       "      <td>1.585653e+10</td>\n",
       "      <td>9.955932e+10</td>\n",
       "      <td>0</td>\n",
       "      <td>0</td>\n",
       "    </tr>\n",
       "    <tr>\n",
       "      <th>1</th>\n",
       "      <td>Cattle</td>\n",
       "      <td>Aggregated</td>\n",
       "      <td>86.7</td>\n",
       "      <td>1.888089e+10</td>\n",
       "      <td>1.640000e+12</td>\n",
       "      <td>2.760000e+11</td>\n",
       "      <td>9.680000e+11</td>\n",
       "      <td>3.940000e+11</td>\n",
       "      <td>1.380000e+11</td>\n",
       "      <td>NaN</td>\n",
       "      <td>7.166208e+10</td>\n",
       "      <td>2.540000e+11</td>\n",
       "      <td>8.860000e+11</td>\n",
       "      <td>8.200906e+10</td>\n",
       "      <td>6.813278e+10</td>\n",
       "      <td>2.993485e+10</td>\n",
       "      <td>3.252889e+09</td>\n",
       "      <td>8.929544e+10</td>\n",
       "      <td>0</td>\n",
       "      <td>0</td>\n",
       "    </tr>\n",
       "    <tr>\n",
       "      <th>2</th>\n",
       "      <td>Cattle</td>\n",
       "      <td>Aggregated</td>\n",
       "      <td>295.4</td>\n",
       "      <td>1.028222e+10</td>\n",
       "      <td>3.040000e+12</td>\n",
       "      <td>6.690000e+11</td>\n",
       "      <td>1.680000e+12</td>\n",
       "      <td>6.870000e+11</td>\n",
       "      <td>2.150000e+11</td>\n",
       "      <td>NaN</td>\n",
       "      <td>1.020000e+11</td>\n",
       "      <td>4.880000e+11</td>\n",
       "      <td>1.620000e+12</td>\n",
       "      <td>5.744310e+10</td>\n",
       "      <td>9.678019e+10</td>\n",
       "      <td>1.222057e+10</td>\n",
       "      <td>1.260364e+10</td>\n",
       "      <td>1.026388e+10</td>\n",
       "      <td>0</td>\n",
       "      <td>0</td>\n",
       "    </tr>\n",
       "    <tr>\n",
       "      <th>3</th>\n",
       "      <td>Cattle</td>\n",
       "      <td>Grassland systems</td>\n",
       "      <td>206.3</td>\n",
       "      <td>1.033817e+10</td>\n",
       "      <td>2.130000e+12</td>\n",
       "      <td>5.630000e+11</td>\n",
       "      <td>1.050000e+12</td>\n",
       "      <td>5.170000e+11</td>\n",
       "      <td>1.110000e+11</td>\n",
       "      <td>NaN</td>\n",
       "      <td>5.253660e+10</td>\n",
       "      <td>4.270000e+11</td>\n",
       "      <td>9.970000e+11</td>\n",
       "      <td>5.605552e+10</td>\n",
       "      <td>3.798508e+10</td>\n",
       "      <td>1.417326e+10</td>\n",
       "      <td>4.303272e+09</td>\n",
       "      <td>3.773092e+10</td>\n",
       "      <td>1</td>\n",
       "      <td>0</td>\n",
       "    </tr>\n",
       "    <tr>\n",
       "      <th>4</th>\n",
       "      <td>Cattle</td>\n",
       "      <td>Grassland systems</td>\n",
       "      <td>95.0</td>\n",
       "      <td>6.940654e+09</td>\n",
       "      <td>6.590000e+11</td>\n",
       "      <td>9.286140e+10</td>\n",
       "      <td>3.710000e+11</td>\n",
       "      <td>1.950000e+11</td>\n",
       "      <td>4.404003e+10</td>\n",
       "      <td>NaN</td>\n",
       "      <td>2.156126e+10</td>\n",
       "      <td>1.590000e+11</td>\n",
       "      <td>3.370000e+11</td>\n",
       "      <td>3.444428e+10</td>\n",
       "      <td>1.473188e+10</td>\n",
       "      <td>1.078605e+10</td>\n",
       "      <td>9.998435e+08</td>\n",
       "      <td>3.462338e+10</td>\n",
       "      <td>1</td>\n",
       "      <td>0</td>\n",
       "    </tr>\n",
       "  </tbody>\n",
       "</table>\n",
       "</div>"
      ],
      "text/plain": [
       "  Animal_species  Production_system  EmissionIntensity  Production_kgProtein  \\\n",
       "0         Cattle         Aggregated              160.3          2.916310e+10   \n",
       "1         Cattle         Aggregated               86.7          1.888089e+10   \n",
       "2         Cattle         Aggregated              295.4          1.028222e+10   \n",
       "3         Cattle  Grassland systems              206.3          1.033817e+10   \n",
       "4         Cattle  Grassland systems               95.0          6.940654e+09   \n",
       "\n",
       "   TotalGHG_CO2      TotalCO2  Total CH4 emissions (kg CO2e)  \\\n",
       "0  4.670000e+12  9.450000e+11                   2.650000e+12   \n",
       "1  1.640000e+12  2.760000e+11                   9.680000e+11   \n",
       "2  3.040000e+12  6.690000e+11                   1.680000e+12   \n",
       "3  2.130000e+12  5.630000e+11                   1.050000e+12   \n",
       "4  6.590000e+11  9.286140e+10                   3.710000e+11   \n",
       "\n",
       "   Total N2O emissions (kg CO2e)       FeedCO2  Feed, CH4 (kg CO2e)  \\\n",
       "0                   1.080000e+12  3.530000e+11                  NaN   \n",
       "1                   3.940000e+11  1.380000e+11                  NaN   \n",
       "2                   6.870000e+11  2.150000e+11                  NaN   \n",
       "3                   5.170000e+11  1.110000e+11                  NaN   \n",
       "4                   1.950000e+11  4.404003e+10                  NaN   \n",
       "\n",
       "   Feed: fertilizer & crop residues, N2O (kg CO2e)  \\\n",
       "0                                     1.740000e+11   \n",
       "1                                     7.166208e+10   \n",
       "2                                     1.020000e+11   \n",
       "3                                     5.253660e+10   \n",
       "4                                     2.156126e+10   \n",
       "\n",
       "   Feed: applied & deposited manure, N2O (kg CO2e)  \\\n",
       "0                                     7.420000e+11   \n",
       "1                                     2.540000e+11   \n",
       "2                                     4.880000e+11   \n",
       "3                                     4.270000e+11   \n",
       "4                                     1.590000e+11   \n",
       "\n",
       "   Enteric fermentation, CH4 (kg CO2e)  Manure management, CH4 (kg CO2e)  \\\n",
       "0                         2.510000e+12                      1.390000e+11   \n",
       "1                         8.860000e+11                      8.200906e+10   \n",
       "2                         1.620000e+12                      5.744310e+10   \n",
       "3                         9.970000e+11                      5.605552e+10   \n",
       "4                         3.370000e+11                      3.444428e+10   \n",
       "\n",
       "   Manure management, N2O (kg CO2e)  Direct energyCO2  \\\n",
       "0                      1.650000e+11      4.215542e+10   \n",
       "1                      6.813278e+10      2.993485e+10   \n",
       "2                      9.678019e+10      1.222057e+10   \n",
       "3                      3.798508e+10      1.417326e+10   \n",
       "4                      1.473188e+10      1.078605e+10   \n",
       "\n",
       "   Indirect energy, CO2 (kg CO2e)   PostfarmCO2  ProdSystemR  Species  \n",
       "0                    1.585653e+10  9.955932e+10            0        0  \n",
       "1                    3.252889e+09  8.929544e+10            0        0  \n",
       "2                    1.260364e+10  1.026388e+10            0        0  \n",
       "3                    4.303272e+09  3.773092e+10            1        0  \n",
       "4                    9.998435e+08  3.462338e+10            1        0  "
      ]
     },
     "execution_count": 47,
     "metadata": {},
     "output_type": "execute_result"
    }
   ],
   "source": [
    "GLEAM1.head()"
   ]
  },
  {
   "cell_type": "code",
   "execution_count": null,
   "id": "837eab06",
   "metadata": {},
   "outputs": [],
   "source": []
  }
 ],
 "metadata": {
  "kernelspec": {
   "display_name": "Python 3 (ipykernel)",
   "language": "python",
   "name": "python3"
  },
  "language_info": {
   "codemirror_mode": {
    "name": "ipython",
    "version": 3
   },
   "file_extension": ".py",
   "mimetype": "text/x-python",
   "name": "python",
   "nbconvert_exporter": "python",
   "pygments_lexer": "ipython3",
   "version": "3.9.7"
  }
 },
 "nbformat": 4,
 "nbformat_minor": 5
}
